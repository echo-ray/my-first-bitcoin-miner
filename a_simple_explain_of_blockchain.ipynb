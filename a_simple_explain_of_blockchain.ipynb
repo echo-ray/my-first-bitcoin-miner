{
 "cells": [
  {
   "cell_type": "markdown",
   "metadata": {},
   "source": [
    "根据Bitcoin白皮书中，我们可以知道\n",
    "区块链的每个区块至少包括：区块索引index、时间戳timestamp、交易数据data和前一区块所有内容的一个哈希值previous_hash\n",
    "由此，建立一个最简单的Block类"
   ]
  },
  {
   "cell_type": "code",
   "execution_count": 17,
   "metadata": {},
   "outputs": [],
   "source": [
    "import hashlib\n",
    "\n",
    "class Block():\n",
    "    def __init__(self, index, timestamp, data, previous_hash):\n",
    "        self.index = index\n",
    "        self.timestamp = timestamp\n",
    "        self.data = data\n",
    "        self.previous_hash = previous_hash\n",
    "        self.hash = self.hash_block()\n",
    "        \n",
    "    def hash_block(self):\n",
    "        # 对本区块生成hash值，实际上会有更多条件，更复杂一些。\n",
    "        sha = hashlib.sha256()\n",
    "        sha.update(bytes(str(self.index) + str(self.timestamp) +\n",
    "                   str(self.data) + str(self.previous_hash), 'utf-8'))\n",
    "        return sha.hexdigest()"
   ]
  },
  {
   "cell_type": "markdown",
   "metadata": {},
   "source": [
    "每个区块都需要前一个区块的信息\n",
    "如此一来，就出现了一个问题：区块链中的第一个区块是如何而来？ \n",
    "第一个区块，或者一般叫做创始块(genesis block), 这是一个十分特殊的块。\n",
    "在很多情况下，它是通过手动或是一些特殊的逻辑添加到区块链中。"
   ]
  },
  {
   "cell_type": "code",
   "execution_count": 18,
   "metadata": {},
   "outputs": [],
   "source": [
    "import datetime\n",
    "# 创建创世块\n",
    "def create_genesis_block():\n",
    "    return Block(0, datetime.datetime.now(), \"Genesis Block\", \"0\")"
   ]
  },
  {
   "cell_type": "markdown",
   "metadata": {},
   "source": [
    "创建了创世块之后，我们就可以根据**前一区块**可以生成更多的区块，并形成一个区块链了"
   ]
  },
  {
   "cell_type": "code",
   "execution_count": 21,
   "metadata": {},
   "outputs": [],
   "source": [
    "def next_block(last_block):\n",
    "    index = last_block.index + 1\n",
    "    timestamp = datetime.datetime.now()\n",
    "    data = \"This is Block \" + str(index)\n",
    "    hash_ = last_block.hash\n",
    "    return Block(index, timestamp, data, hash_)"
   ]
  },
  {
   "cell_type": "markdown",
   "metadata": {},
   "source": [
    "接下来，就可以生成一序列的Block Chain了（尽管在我们这个简单的例子中只是一个列表）"
   ]
  },
  {
   "cell_type": "code",
   "execution_count": 28,
   "metadata": {},
   "outputs": [
    {
     "name": "stdout",
     "output_type": "stream",
     "text": [
      "Genesis block #0 has been added to the blockchain!\n",
      "Hash: f8e352eef7689fd472b2aff1e583dcb11b9cd8e5e5e8ef317addf3534e1d4b33\n",
      "\n",
      "Block #1 has been added to the blockchain!\n",
      "Hash: d361dff79f23ca2a2669386270a575d552ed2c82e257979c72aabe1e3a720f1a\n",
      "\n",
      "Block #2 has been added to the blockchain!\n",
      "Hash: be7b7b846443d17b31477a50eacbdaddf2a607df5581e683f42bf2eb7db053c3\n",
      "\n",
      "Block #3 has been added to the blockchain!\n",
      "Hash: 1f642e3c6e52082a96d877916f75e3189e125f8148cbb7551f3bb8a1125c872c\n",
      "\n",
      "Block #4 has been added to the blockchain!\n",
      "Hash: cfaf832a65296c2cea1e76ceed46098ba5e719e09d2b801fc75b196462472b33\n",
      "\n",
      "Block #5 has been added to the blockchain!\n",
      "Hash: 348424f4cfcc81aa2c78950107536252f943ac278b1460e4fcadc96b7d7aa5ec\n",
      "\n",
      "Block #6 has been added to the blockchain!\n",
      "Hash: b35056c31d01cf824393abbf3866c054384e8dde7e5d6d7e34195fc1a52dffe3\n",
      "\n"
     ]
    }
   ],
   "source": [
    "blockchain = [create_genesis_block()]\n",
    "print('Genesis block #0 has been added to the blockchain!')\n",
    "print(\"Hash: {}\\n\".format(blockchain[0].hash))\n",
    "\n",
    "previous_block = blockchain[0]\n",
    "\n",
    "num_of_blocks = 7\n",
    "for i in range(1,num_of_blocks):\n",
    "    block_to_add = next_block(previous_block)\n",
    "    blockchain.append(block_to_add)\n",
    "    previous_block = block_to_add\n",
    "\n",
    "    print('Block #{} has been added to the blockchain!'.format(block_to_add.index))\n",
    "    print(\"Hash: {}\\n\".format(block_to_add.hash))"
   ]
  },
  {
   "cell_type": "markdown",
   "metadata": {},
   "source": [
    "### 更多资料\n",
    "- [CSDN博客：比特币的区块哈希算法](http://blog.csdn.net/jason_cuijiahui/article/details/79011118)\n",
    "- [my-first-bitcoin-miner](https://github.com/philipperemy/my-first-bitcoin-miner)"
   ]
  }
 ],
 "metadata": {
  "kernelspec": {
   "display_name": "Python 3",
   "language": "python",
   "name": "python3"
  },
  "language_info": {
   "codemirror_mode": {
    "name": "ipython",
    "version": 3
   },
   "file_extension": ".py",
   "mimetype": "text/x-python",
   "name": "python",
   "nbconvert_exporter": "python",
   "pygments_lexer": "ipython3",
   "version": "3.5.4"
  }
 },
 "nbformat": 4,
 "nbformat_minor": 2
}
