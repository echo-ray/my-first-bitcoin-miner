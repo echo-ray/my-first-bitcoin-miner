{
 "cells": [
  {
   "cell_type": "code",
   "execution_count": null,
   "metadata": {
    "scrolled": true
   },
   "outputs": [],
   "source": [
    "from ecdsa import SigningKey, SECP256k1\n",
    "import sha3\n",
    "\n",
    "def eth_gen():\n",
    "    keccak = sha3.keccak_256()\n",
    "\n",
    "    priv = SigningKey.generate(curve=SECP256k1)\n",
    "\n",
    "    pub = priv.get_verifying_key().to_string()\n",
    "\n",
    "    keccak.update(pub)\n",
    "    address = keccak.hexdigest()[24:]\n",
    "\n",
    "    return {\"Address\":('0x'+address),\"private_key\":priv.to_string().hex()}\n",
    "\n",
    "#print(\"Private key:\", priv.to_string().hex())\n",
    "#print(\"Public key: \", pub.hex())\n",
    "#print(\"Address:     0x\" + address)\n",
    "print(eth_gen())\n"
   ]
  },
  {
   "cell_type": "code",
   "execution_count": null,
   "metadata": {
    "scrolled": true
   },
   "outputs": [],
   "source": [
    "import time\n",
    "while True:\n",
    "    for j in range(100):\n",
    "        filename = str('test\\#'+str(j)+'.txt')\n",
    "        for i in range(100):\n",
    "            with open(filename,'a') as f:\n",
    "                eth = eth_gen()\n",
    "                f.write('{:0>5}  {}  {}\\n'.format(i, eth['Address'],eth['private_key']))\n",
    "        time.sleep(2)\n",
    "    print('over')\n",
    "    time.sleep(400)\n",
    "    "
   ]
  },
  {
   "cell_type": "code",
   "execution_count": null,
   "metadata": {},
   "outputs": [],
   "source": []
  },
  {
   "cell_type": "code",
   "execution_count": null,
   "metadata": {},
   "outputs": [],
   "source": []
  }
 ],
 "metadata": {
  "kernelspec": {
   "display_name": "Python 3",
   "language": "python",
   "name": "python3"
  },
  "language_info": {
   "codemirror_mode": {
    "name": "ipython",
    "version": 3
   },
   "file_extension": ".py",
   "mimetype": "text/x-python",
   "name": "python",
   "nbconvert_exporter": "python",
   "pygments_lexer": "ipython3",
   "version": "3.5.4"
  }
 },
 "nbformat": 4,
 "nbformat_minor": 2
}
